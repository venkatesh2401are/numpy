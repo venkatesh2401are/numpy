{
 "cells": [
  {
   "cell_type": "raw",
   "metadata": {},
   "source": [
    "Contents of ndarry object can be accessed and modified by indexing or slicing \n",
    "items in ndarry objects follows zero-based index\n",
    "There are three types of indexing methods are available\n",
    "    >field sccess\n",
    "    >basic slicing\n",
    "    >advanced indexing -these are two types\n",
    "                          >integer\n",
    "                          >boolian"
   ]
  },
  {
   "cell_type": "markdown",
   "metadata": {},
   "source": [
    "### slicing"
   ]
  },
  {
   "cell_type": "code",
   "execution_count": 16,
   "metadata": {},
   "outputs": [
    {
     "name": "stdout",
     "output_type": "stream",
     "text": [
      "[2 4 6]\n"
     ]
    }
   ],
   "source": [
    "import numpy as np\n",
    "a= np.arange(10)\n",
    "s=slice(2,7,2)\n",
    "print(a[s])"
   ]
  },
  {
   "cell_type": "code",
   "execution_count": 17,
   "metadata": {},
   "outputs": [
    {
     "name": "stdout",
     "output_type": "stream",
     "text": [
      "[2 4 6]\n"
     ]
    }
   ],
   "source": [
    "import numpy as np\n",
    "a= np.arange(10)      #another way to slice\n",
    "b=a[2:7:2]\n",
    "print(b)"
   ]
  },
  {
   "cell_type": "code",
   "execution_count": 18,
   "metadata": {},
   "outputs": [
    {
     "name": "stdout",
     "output_type": "stream",
     "text": [
      "5\n"
     ]
    }
   ],
   "source": [
    "import numpy as np\n",
    "a= np.arange(10)      #another way to slice\n",
    "b=a[5]\n",
    "print(b)"
   ]
  },
  {
   "cell_type": "code",
   "execution_count": 19,
   "metadata": {},
   "outputs": [
    {
     "name": "stdout",
     "output_type": "stream",
     "text": [
      "[2 3 4 5 6 7 8 9]\n"
     ]
    }
   ],
   "source": [
    "#slice the items starting from index\n",
    "import numpy as np \n",
    "a= np.arange(10)\n",
    "print(a[2:])"
   ]
  },
  {
   "cell_type": "code",
   "execution_count": 20,
   "metadata": {},
   "outputs": [
    {
     "name": "stdout",
     "output_type": "stream",
     "text": [
      "[2 3 4 5 6 7]\n"
     ]
    }
   ],
   "source": [
    "#slicing item between the index\n",
    "import numpy as np \n",
    "x= np.arange(10)\n",
    "b=x[2:8]\n",
    "print(b)"
   ]
  },
  {
   "cell_type": "code",
   "execution_count": 21,
   "metadata": {},
   "outputs": [
    {
     "name": "stdout",
     "output_type": "stream",
     "text": [
      "[[1 2 3]\n",
      " [4 5 6]\n",
      " [7 8 9]]\n",
      "Now we will slice the array from the index a[1:]\n",
      "[[4 5 6]\n",
      " [7 8 9]]\n"
     ]
    }
   ],
   "source": [
    "import numpy as np\n",
    "a= np.array([[1,2,3],[4,5,6],[7,8,9]])\n",
    "print(a)\n",
    "\n",
    "#slice item starting from index\n",
    "print(\"Now we will slice the array from the index a[1:]\")\n",
    "print(a[1:])"
   ]
  },
  {
   "cell_type": "code",
   "execution_count": 22,
   "metadata": {},
   "outputs": [
    {
     "name": "stdout",
     "output_type": "stream",
     "text": [
      "our darray is\n",
      "[[1 2 3]\n",
      " [4 5 6]\n",
      " [7 8 9]]\n",
      "\n",
      "\n",
      "The items in the second column are\n",
      "[2 5 8]\n",
      "\n",
      "\n",
      "The item in the second row are\n",
      "[4 5 6]\n",
      "\n",
      "\n",
      "The items column 1 onwords are:\n",
      "[[2 3]\n",
      " [5 6]\n",
      " [8 9]]\n",
      "\n",
      "\n"
     ]
    }
   ],
   "source": [
    "import numpy as np\n",
    "a= np.array([[1,2,3],[4,5,6],[7,8,9]])\n",
    "print(\"our darray is\")\n",
    "print(a)\n",
    "print('\\n')\n",
    "\n",
    "print('The items in the second column are')\n",
    "print(a[...,1])\n",
    "print(\"\\n\")\n",
    "\n",
    "#now we will slice item all items from the sconda row\n",
    "print('The item in the second row are')\n",
    "print(a[1,...])\n",
    "print('\\n')\n",
    "#now we will sloce thr oitems from column 1 onwards\n",
    "print(\"The items column 1 onwords are:\")\n",
    "print(a[...,1:])\n",
    "print('\\n')\n"
   ]
  },
  {
   "cell_type": "markdown",
   "metadata": {},
   "source": [
    "# numpy-Advanced indexing"
   ]
  },
  {
   "cell_type": "markdown",
   "metadata": {},
   "source": [
    "### integer indexing"
   ]
  },
  {
   "cell_type": "code",
   "execution_count": 23,
   "metadata": {},
   "outputs": [
    {
     "name": "stdout",
     "output_type": "stream",
     "text": [
      "[1 4 5]\n"
     ]
    }
   ],
   "source": [
    "import numpy as np\n",
    "x= np.array([[1,2],[3,4],[5,6]])\n",
    "y=x[[0,1,2],[0,1,0]]\n",
    "print(y)\n"
   ]
  },
  {
   "cell_type": "code",
   "execution_count": 24,
   "metadata": {
    "scrolled": true
   },
   "outputs": [
    {
     "name": "stdout",
     "output_type": "stream",
     "text": [
      "our array is\n",
      "[[ 0  1  2]\n",
      " [ 3  4  5]\n",
      " [ 6  7  8]\n",
      " [ 9 10 11]]\n",
      "\n",
      "\n",
      "The corner of the array are :\n",
      "[[ 0  2]\n",
      " [ 9 11]]\n"
     ]
    }
   ],
   "source": [
    "import numpy as np\n",
    "x= np.array([[0,1,2],[3,4,5],[6,7,8],[9,10,11]])\n",
    "print('our array is')\n",
    "print(x)\n",
    "print('\\n')\n",
    "\n",
    "rows=np.array([[0,0],[3,3]])\n",
    "cols=np.array([[0,2],[0,2]])\n",
    "y=x[rows,cols]\n",
    "print(\"The corner of the array are :\")\n",
    "print(y)"
   ]
  },
  {
   "cell_type": "code",
   "execution_count": 25,
   "metadata": {},
   "outputs": [
    {
     "name": "stdout",
     "output_type": "stream",
     "text": [
      "our array is\n",
      "[[ 0  1  2]\n",
      " [ 3  4  5]\n",
      " [ 6  7  8]\n",
      " [ 9 10 11]]\n",
      "\n",
      "\n",
      "after slicing our array becomes:\n",
      "[[ 4  5]\n",
      " [ 7  8]\n",
      " [10 11]]\n",
      "\n",
      "\n",
      "slicing using advanced index for column\n",
      "[[ 4  5]\n",
      " [ 7  8]\n",
      " [10 11]]\n"
     ]
    }
   ],
   "source": [
    "import numpy as np\n",
    "x= np.array([[0,1,2],[3,4,5],[6,7,8],[9,10,11]])\n",
    "print('our array is')\n",
    "print(x)\n",
    "print('\\n')\n",
    "\n",
    "#slicing \n",
    "z=x[1:4,1:3]\n",
    "print(\"after slicing our array becomes:\")\n",
    "print(z)\n",
    "print('\\n')\n",
    "\n",
    "#using advanced index for column\n",
    "y=x[1:4,[1,2]]\n",
    "print(\"slicing using advanced index for column\")\n",
    "print(y)"
   ]
  },
  {
   "cell_type": "markdown",
   "metadata": {},
   "source": [
    "### boolean array indexing"
   ]
  },
  {
   "cell_type": "code",
   "execution_count": 26,
   "metadata": {},
   "outputs": [
    {
     "name": "stdout",
     "output_type": "stream",
     "text": [
      "our array is\n",
      "[[ 0  1  2]\n",
      " [ 3  4  5]\n",
      " [ 6  7  8]\n",
      " [ 9 10 11]]\n",
      "\n",
      "\n",
      "the item greater than five are:\n",
      "[ 6  7  8  9 10 11]\n"
     ]
    }
   ],
   "source": [
    "import numpy as np\n",
    "x= np.array([[0,1,2],[3,4,5],[6,7,8],[9,10,11]])\n",
    "print('our array is')\n",
    "print(x)\n",
    "print('\\n')\n",
    "\n",
    "#now we will print the item greater than 5\n",
    "print('the item greater than five are:')\n",
    "print(x[x>5])"
   ]
  },
  {
   "cell_type": "code",
   "execution_count": 27,
   "metadata": {},
   "outputs": [
    {
     "name": "stdout",
     "output_type": "stream",
     "text": [
      "[1. 2. 3. 4. 5.]\n"
     ]
    }
   ],
   "source": [
    "import numpy as np\n",
    "a= np.array([np.nan,1,2,np.nan,3,4,5])\n",
    "print(a[~np.isnan(a)])"
   ]
  },
  {
   "cell_type": "code",
   "execution_count": 28,
   "metadata": {},
   "outputs": [
    {
     "name": "stdout",
     "output_type": "stream",
     "text": [
      "[2. +6.j 3.5+5.j]\n"
     ]
    }
   ],
   "source": [
    "import numpy as np\n",
    "a= np.array([1,2+6j,5,3.5+5j,4.6])\n",
    "print(a[np.iscomplex(a)])"
   ]
  },
  {
   "cell_type": "markdown",
   "metadata": {},
   "source": [
    "# numpy-broadcasting"
   ]
  },
  {
   "cell_type": "code",
   "execution_count": 29,
   "metadata": {},
   "outputs": [
    {
     "name": "stdout",
     "output_type": "stream",
     "text": [
      "[ 10  40  90 160]\n"
     ]
    }
   ],
   "source": [
    "a=np.array([1,2,3,4])\n",
    "b=np.array([10,20,30,40])\n",
    "c=a*b\n",
    "print(c)"
   ]
  },
  {
   "cell_type": "markdown",
   "metadata": {},
   "source": [
    "# numpy-iterating over array"
   ]
  },
  {
   "cell_type": "code",
   "execution_count": 30,
   "metadata": {},
   "outputs": [
    {
     "name": "stdout",
     "output_type": "stream",
     "text": [
      "First array:\n",
      "[[ 0.  0.  0.]\n",
      " [10. 10. 10.]\n",
      " [20. 20. 20.]\n",
      " [30. 30. 30.]]\n",
      "\n",
      "\n",
      "Second array:\n",
      "[1. 2. 3.]\n",
      "\n",
      "\n",
      "First Array + Second Array\n",
      "[[ 1.  2.  3.]\n",
      " [11. 12. 13.]\n",
      " [21. 22. 23.]\n",
      " [31. 32. 33.]]\n"
     ]
    }
   ],
   "source": [
    "\n",
    "import numpy as np \n",
    "a = np.array([[0.0,0.0,0.0],[10.0,10.0,10.0],[20.0,20.0,20.0],[30.0,30.0,30.0]]) \n",
    "b = np.array([1.0,2.0,3.0])  \n",
    "   \n",
    "print ('First array:') \n",
    "print (a) \n",
    "print ('\\n' ) \n",
    "   \n",
    "print ('Second array:') \n",
    "print (b) \n",
    "print ('\\n')  \n",
    "   \n",
    "print ('First Array + Second Array') \n",
    "print (a + b)"
   ]
  },
  {
   "cell_type": "code",
   "execution_count": 31,
   "metadata": {},
   "outputs": [
    {
     "name": "stdout",
     "output_type": "stream",
     "text": [
      "Original array is:\n",
      "[[ 0  5 10 15]\n",
      " [20 25 30 35]\n",
      " [40 45 50 55]]\n",
      "\n",
      "\n",
      "Modified array is:\n",
      "0\n",
      "5\n",
      "10\n",
      "15\n",
      "20\n",
      "25\n",
      "30\n",
      "35\n",
      "40\n",
      "45\n",
      "50\n",
      "55\n"
     ]
    }
   ],
   "source": [
    "import numpy as np\n",
    "a = np.arange(0,60,5)\n",
    "a = a.reshape(3,4)\n",
    "\n",
    "print ('Original array is:')\n",
    "print (a)\n",
    "print ('\\n')\n",
    "\n",
    "print ('Modified array is:')\n",
    "for x in np.nditer(a):\n",
    "   print (x)"
   ]
  },
  {
   "cell_type": "code",
   "execution_count": 32,
   "metadata": {},
   "outputs": [
    {
     "name": "stdout",
     "output_type": "stream",
     "text": [
      "Original array is:\n",
      "[[ 0  5 10 15]\n",
      " [20 25 30 35]\n",
      " [40 45 50 55]]\n",
      "\n",
      "\n",
      "Transpose of the original array is:\n",
      "[[ 0 20 40]\n",
      " [ 5 25 45]\n",
      " [10 30 50]\n",
      " [15 35 55]]\n",
      "\n",
      "\n",
      "Modified array is:\n",
      "0\n",
      "5\n",
      "10\n",
      "15\n",
      "20\n",
      "25\n",
      "30\n",
      "35\n",
      "40\n",
      "45\n",
      "50\n",
      "55\n"
     ]
    }
   ],
   "source": [
    "import numpy as np \n",
    "a = np.arange(0,60,5) \n",
    "a = a.reshape(3,4) \n",
    "   \n",
    "print ('Original array is:')\n",
    "print (a) \n",
    "print ('\\n')  \n",
    "   \n",
    "print ('Transpose of the original array is:') \n",
    "b = a.T \n",
    "print (b) \n",
    "print ('\\n')  \n",
    "   \n",
    "print ('Modified array is:' )\n",
    "for x in np.nditer(b): \n",
    "   print (x)"
   ]
  },
  {
   "cell_type": "markdown",
   "metadata": {},
   "source": [
    "### iterator order"
   ]
  },
  {
   "cell_type": "code",
   "execution_count": 33,
   "metadata": {},
   "outputs": [
    {
     "name": "stdout",
     "output_type": "stream",
     "text": [
      "Original array is:\n",
      "[[ 0  5 10 15]\n",
      " [20 25 30 35]\n",
      " [40 45 50 55]]\n",
      "\n",
      "\n",
      "Transpose of the original array is:\n",
      "[[ 0 20 40]\n",
      " [ 5 25 45]\n",
      " [10 30 50]\n",
      " [15 35 55]]\n",
      "\n",
      "\n",
      "Sorted in C-style order:\n",
      "[[ 0 20 40]\n",
      " [ 5 25 45]\n",
      " [10 30 50]\n",
      " [15 35 55]]\n",
      "0\n",
      "20\n",
      "40\n",
      "5\n",
      "25\n",
      "45\n",
      "10\n",
      "30\n",
      "50\n",
      "15\n",
      "35\n",
      "55\n",
      "\n",
      "\n",
      "Sorted in F-style order:\n",
      "[[ 0 20 40]\n",
      " [ 5 25 45]\n",
      " [10 30 50]\n",
      " [15 35 55]]\n",
      "0 5 10 15 20 25 30 35 40 45 50 55 "
     ]
    }
   ],
   "source": [
    "\n",
    "import numpy as np\n",
    "a = np.arange(0,60,5)\n",
    "a = a.reshape(3,4)\n",
    "print( 'Original array is:')\n",
    "print (a)\n",
    "print ('\\n')\n",
    "\n",
    "print ('Transpose of the original array is:')\n",
    "b = a.T\n",
    "print (b)\n",
    "print ('\\n')\n",
    "\n",
    "print ('Sorted in C-style order:')\n",
    "c = b.copy(order = 'C')\n",
    "print (c)\n",
    "for x in np.nditer(c):\n",
    "   print (x)\n",
    "\n",
    "print ('\\n')\n",
    "\n",
    "print ('Sorted in F-style order:')\n",
    "c = b.copy(order = 'F')\n",
    "print (c)\n",
    "for x in np.nditer(c):\n",
    "   print (x,end=\" \")"
   ]
  },
  {
   "cell_type": "code",
   "execution_count": 34,
   "metadata": {},
   "outputs": [
    {
     "name": "stdout",
     "output_type": "stream",
     "text": [
      "Original array is:\n",
      "[[ 0  5 10 15]\n",
      " [20 25 30 35]\n",
      " [40 45 50 55]]\n",
      "\n",
      "\n",
      "Sorted in C-style order:\n",
      "0\n",
      "5\n",
      "10\n",
      "15\n",
      "20\n",
      "25\n",
      "30\n",
      "35\n",
      "40\n",
      "45\n",
      "50\n",
      "55\n",
      "\n",
      "\n",
      "Sorted in F-style order:\n",
      "0\n",
      "20\n",
      "40\n",
      "5\n",
      "25\n",
      "45\n",
      "10\n",
      "30\n",
      "50\n",
      "15\n",
      "35\n",
      "55\n"
     ]
    }
   ],
   "source": [
    "\n",
    "import numpy as np \n",
    "a = np.arange(0,60,5) \n",
    "a = a.reshape(3,4) \n",
    "\n",
    "print ('Original array is:') \n",
    "print (a )\n",
    "print ('\\n')  \n",
    "\n",
    "print ('Sorted in C-style order:' )\n",
    "for x in np.nditer(a, order = 'C'): \n",
    "   print (x)\n",
    "print ('\\n') \n",
    "\n",
    "print ('Sorted in F-style order:') \n",
    "for x in np.nditer(a, order = 'F'): \n",
    "   print (x)"
   ]
  },
  {
   "cell_type": "markdown",
   "metadata": {},
   "source": [
    "Modifying Array Values\n",
    "The nditer object has another optional parameter called op_flags. Its default value is read-only, but can be set to read-write or write-only mode. This will enable modifying array elements using this iterator."
   ]
  },
  {
   "cell_type": "code",
   "execution_count": 35,
   "metadata": {},
   "outputs": [
    {
     "name": "stdout",
     "output_type": "stream",
     "text": [
      "Original array is:\n",
      "[[ 0  5 10 15]\n",
      " [20 25 30 35]\n",
      " [40 45 50 55]]\n",
      "\n",
      "\n",
      "Modified array is:\n",
      "[[  0  10  20  30]\n",
      " [ 40  50  60  70]\n",
      " [ 80  90 100 110]]\n"
     ]
    }
   ],
   "source": [
    "import numpy as np\n",
    "a = np.arange(0,60,5)\n",
    "a = a.reshape(3,4)\n",
    "print ('Original array is:')\n",
    "print (a)\n",
    "print ('\\n')\n",
    "\n",
    "for x in np.nditer(a, op_flags = ['readwrite']):\n",
    "   x[...] = 2*x\n",
    "print ('Modified array is:')\n",
    "print (a)"
   ]
  },
  {
   "cell_type": "markdown",
   "metadata": {},
   "source": [
    "External Loop\n",
    "The nditer class constructor has a ‘flags’ parameter, which can take the following values"
   ]
  },
  {
   "cell_type": "code",
   "execution_count": 36,
   "metadata": {},
   "outputs": [
    {
     "name": "stdout",
     "output_type": "stream",
     "text": [
      "Original array is:\n",
      "[[ 0  5 10 15]\n",
      " [20 25 30 35]\n",
      " [40 45 50 55]]\n",
      "\n",
      "\n",
      "Modified array is:\n",
      "[ 0 20 40]\n",
      "[ 5 25 45]\n",
      "[10 30 50]\n",
      "[15 35 55]\n"
     ]
    }
   ],
   "source": [
    "\n",
    "import numpy as np \n",
    "a = np.arange(0,60,5) \n",
    "a = a.reshape(3,4) \n",
    "\n",
    "print ('Original array is:' )\n",
    "print (a )\n",
    "print ('\\n')  \n",
    "\n",
    "print ('Modified array is:') \n",
    "for x in np.nditer(a, flags = ['external_loop'], order = 'F'):\n",
    "   print (x)"
   ]
  },
  {
   "cell_type": "markdown",
   "metadata": {},
   "source": [
    "### Broadcasting Iteration"
   ]
  },
  {
   "cell_type": "code",
   "execution_count": 37,
   "metadata": {},
   "outputs": [
    {
     "name": "stdout",
     "output_type": "stream",
     "text": [
      "First array is:\n",
      "[[ 0  5 10 15]\n",
      " [20 25 30 35]\n",
      " [40 45 50 55]]\n",
      "\n",
      "\n",
      "Second array is:\n",
      "[1 2 3 4]\n",
      "\n",
      "\n",
      "Modified array is:\n",
      "0:1\n",
      "5:2\n",
      "10:3\n",
      "15:4\n",
      "20:1\n",
      "25:2\n",
      "30:3\n",
      "35:4\n",
      "40:1\n",
      "45:2\n",
      "50:3\n",
      "55:4\n"
     ]
    }
   ],
   "source": [
    "\n",
    "import numpy as np \n",
    "a = np.arange(0,60,5) \n",
    "a = a.reshape(3,4) \n",
    "\n",
    "print ('First array is:') \n",
    "print (a) \n",
    "print ('\\n')  \n",
    "\n",
    "print ('Second array is:') \n",
    "b = np.array([1, 2, 3, 4], dtype = int) \n",
    "print( b  )\n",
    "print ('\\n') \n",
    "\n",
    "print ('Modified array is:') \n",
    "for x,y in np.nditer([a,b]): \n",
    "   print (\"%d:%d\" % (x,y))"
   ]
  },
  {
   "cell_type": "raw",
   "metadata": {},
   "source": [
    "Changing Shape\n",
    "Transpose Operations\n",
    "Changing Dimensions\n",
    "Joining Array\n",
    "Splitting Arrays\n",
    "Adding / Removing Elements\n",
    "NumPy - Binary Operators\n",
    "NumPy - String Functions"
   ]
  },
  {
   "cell_type": "markdown",
   "metadata": {},
   "source": [
    "# NumPy - Mathematical Functions"
   ]
  },
  {
   "cell_type": "markdown",
   "metadata": {},
   "source": [
    "### Trigonometric Functions"
   ]
  },
  {
   "cell_type": "code",
   "execution_count": 38,
   "metadata": {},
   "outputs": [
    {
     "name": "stdout",
     "output_type": "stream",
     "text": [
      "Sine of different angles:\n",
      "[0.         0.5        0.70710678 0.8660254  1.        ]\n",
      "\n",
      "\n",
      "Cosine values for angles in array:\n",
      "[1.00000000e+00 8.66025404e-01 7.07106781e-01 5.00000000e-01\n",
      " 6.12323400e-17]\n",
      "\n",
      "\n",
      "Tangent values for given angles:\n",
      "[0.00000000e+00 5.77350269e-01 1.00000000e+00 1.73205081e+00\n",
      " 1.63312394e+16]\n"
     ]
    }
   ],
   "source": [
    "import numpy as np \n",
    "a = np.array([0,30,45,60,90]) \n",
    "\n",
    "print( 'Sine of different angles:') \n",
    "# Convert to radians by multiplying with pi/180 \n",
    "print (np.sin(a*np.pi/180) )\n",
    "print ('\\n')  \n",
    "\n",
    "print ('Cosine values for angles in array:') \n",
    "print( np.cos(a*np.pi/180) )\n",
    "print ('\\n')  \n",
    "\n",
    "print ('Tangent values for given angles:') \n",
    "print (np.tan(a*np.pi/180) )"
   ]
  },
  {
   "cell_type": "code",
   "execution_count": 39,
   "metadata": {},
   "outputs": [
    {
     "name": "stdout",
     "output_type": "stream",
     "text": [
      "Array containing sine values:\n",
      "[0.         0.5        0.70710678 0.8660254  1.        ]\n",
      "\n",
      "\n",
      "Compute sine inverse of angles. Returned values are in radians.\n",
      "[0.         0.52359878 0.78539816 1.04719755 1.57079633]\n",
      "\n",
      "\n",
      "Check result by converting to degrees:\n",
      "[ 0. 30. 45. 60. 90.]\n",
      "\n",
      "\n",
      "arccos and arctan functions behave similarly:\n",
      "[1.00000000e+00 8.66025404e-01 7.07106781e-01 5.00000000e-01\n",
      " 6.12323400e-17]\n",
      "\n",
      "\n",
      "Inverse of cos:\n",
      "[0.         0.52359878 0.78539816 1.04719755 1.57079633]\n",
      "\n",
      "\n",
      "In degrees:\n",
      "[ 0. 30. 45. 60. 90.]\n",
      "\n",
      "\n",
      "Tan function:\n",
      "[0.00000000e+00 5.77350269e-01 1.00000000e+00 1.73205081e+00\n",
      " 1.63312394e+16]\n",
      "\n",
      "\n",
      "Inverse of tan:\n",
      "[0.         0.52359878 0.78539816 1.04719755 1.57079633]\n",
      "\n",
      "\n",
      "In degrees:\n",
      "[ 0. 30. 45. 60. 90.]\n"
     ]
    }
   ],
   "source": [
    "import numpy as np \n",
    "a = np.array([0,30,45,60,90]) \n",
    "\n",
    "print ('Array containing sine values:') \n",
    "sin = np.sin(a*np.pi/180) \n",
    "print (sin) \n",
    "print ('\\n' ) \n",
    "\n",
    "print ('Compute sine inverse of angles. Returned values are in radians.' )\n",
    "inv = np.arcsin(sin) \n",
    "print (inv )\n",
    "print ('\\n')  \n",
    "\n",
    "print ('Check result by converting to degrees:') \n",
    "print (np.degrees(inv)) \n",
    "print ('\\n')  \n",
    "\n",
    "print ('arccos and arctan functions behave similarly:') \n",
    "cos = np.cos(a*np.pi/180) \n",
    "print (cos) \n",
    "print ('\\n')  \n",
    "\n",
    "print ('Inverse of cos:') \n",
    "inv = np.arccos(cos) \n",
    "print (inv) \n",
    "print ('\\n')  \n",
    "\n",
    "print ('In degrees:') \n",
    "print (np.degrees(inv)) \n",
    "print ('\\n')  \n",
    "\n",
    "print ('Tan function:') \n",
    "tan = np.tan(a*np.pi/180) \n",
    "print (tan)\n",
    "print ('\\n')  \n",
    "\n",
    "print ('Inverse of tan:') \n",
    "inv = np.arctan(tan) \n",
    "print (inv) \n",
    "print ('\\n')  \n",
    "\n",
    "print ('In degrees:') \n",
    "print (np.degrees(inv))\n"
   ]
  },
  {
   "cell_type": "markdown",
   "metadata": {},
   "source": [
    "# Functions for Rounding"
   ]
  },
  {
   "cell_type": "markdown",
   "metadata": {},
   "source": [
    "### numpy.around()\n",
    "\n",
    "numpy.around(a,decimals)"
   ]
  },
  {
   "cell_type": "code",
   "execution_count": 40,
   "metadata": {},
   "outputs": [
    {
     "name": "stdout",
     "output_type": "stream",
     "text": [
      "Original array:\n",
      "[  1.      5.55  123.      0.567  25.532]\n",
      "\n",
      "\n",
      "After rounding:\n",
      "[  1.   6. 123.   1.  26.]\n",
      "[  1.    5.6 123.    0.6  25.5]\n",
      "[  0.  10. 120.   0.  30.]\n"
     ]
    }
   ],
   "source": [
    "import numpy as np \n",
    "a = np.array([1.0,5.55, 123, 0.567, 25.532]) \n",
    "\n",
    "print ('Original array:' )\n",
    "print( a )\n",
    "print ('\\n' ) \n",
    "\n",
    "print ('After rounding:') \n",
    "print (np.around(a)) \n",
    "print( np.around(a, decimals = 1) )\n",
    "print (np.around(a, decimals = -1))"
   ]
  },
  {
   "cell_type": "markdown",
   "metadata": {},
   "source": [
    "### numpy.floor()"
   ]
  },
  {
   "cell_type": "code",
   "execution_count": 41,
   "metadata": {},
   "outputs": [
    {
     "name": "stdout",
     "output_type": "stream",
     "text": [
      "The given array:\n",
      "[-1.7  1.5 -0.2  0.6 10. ]\n",
      "\n",
      "\n",
      "The modified array:\n",
      "[-2.  1. -1.  0. 10.]\n"
     ]
    }
   ],
   "source": [
    "\n",
    "import numpy as np \n",
    "a = np.array([-1.7, 1.5, -0.2, 0.6, 10]) \n",
    "\n",
    "print ('The given array:' )\n",
    "print( a )\n",
    "print ('\\n')  \n",
    "\n",
    "print ('The modified array:') \n",
    "print (np.floor(a))"
   ]
  },
  {
   "cell_type": "markdown",
   "metadata": {},
   "source": [
    "### numpy.ceil()"
   ]
  },
  {
   "cell_type": "code",
   "execution_count": 42,
   "metadata": {},
   "outputs": [
    {
     "name": "stdout",
     "output_type": "stream",
     "text": [
      "The given array:\n",
      "[-1.7  1.5 -0.2  0.6 10. ]\n",
      "\n",
      "\n",
      "The modified array:\n",
      "[-1.  2. -0.  1. 10.]\n"
     ]
    }
   ],
   "source": [
    "import numpy as np \n",
    "a = np.array([-1.7, 1.5, -0.2, 0.6, 10]) \n",
    "\n",
    "print ('The given array:') \n",
    "print ( a )\n",
    "print( '\\n'  )\n",
    "\n",
    "print ('The modified array:') \n",
    "print (np.ceil(a))"
   ]
  },
  {
   "cell_type": "markdown",
   "metadata": {},
   "source": [
    "# NumPy - Arithmetic Operations"
   ]
  },
  {
   "cell_type": "code",
   "execution_count": 43,
   "metadata": {},
   "outputs": [
    {
     "name": "stdout",
     "output_type": "stream",
     "text": [
      "First array:\n",
      "[[0. 1. 2.]\n",
      " [3. 4. 5.]\n",
      " [6. 7. 8.]]\n",
      "\n",
      "\n",
      "Second array:\n",
      "[10 10 10]\n",
      "\n",
      "\n",
      "Add the two arrays:\n",
      "[[10. 11. 12.]\n",
      " [13. 14. 15.]\n",
      " [16. 17. 18.]]\n",
      "\n",
      "\n",
      "Subtract the two arrays:\n",
      "[[-10.  -9.  -8.]\n",
      " [ -7.  -6.  -5.]\n",
      " [ -4.  -3.  -2.]]\n",
      "\n",
      "\n",
      "Multiply the two arrays:\n",
      "[[ 0. 10. 20.]\n",
      " [30. 40. 50.]\n",
      " [60. 70. 80.]]\n",
      "\n",
      "\n",
      "Divide the two arrays:\n",
      "[[0.  0.1 0.2]\n",
      " [0.3 0.4 0.5]\n",
      " [0.6 0.7 0.8]]\n"
     ]
    }
   ],
   "source": [
    "import numpy as np \n",
    "a = np.arange(9, dtype = np.float_).reshape(3,3) \n",
    "\n",
    "print ('First array:') \n",
    "print (a) \n",
    "print ('\\n')  \n",
    "\n",
    "print ('Second array:' )\n",
    "b = np.array([10,10,10]) \n",
    "print (b )\n",
    "print( '\\n' ) \n",
    "\n",
    "print ('Add the two arrays:') \n",
    "print (np.add(a,b)) \n",
    "print ('\\n' ) \n",
    "\n",
    "print ('Subtract the two arrays:') \n",
    "print (np.subtract(a,b) )\n",
    "print ('\\n'  )\n",
    "\n",
    "print ('Multiply the two arrays:' )\n",
    "print (np.multiply(a,b) )\n",
    "print ('\\n'  )\n",
    "\n",
    "print ('Divide the two arrays:') \n",
    "print (np.divide(a,b))"
   ]
  },
  {
   "cell_type": "markdown",
   "metadata": {},
   "source": [
    "### numpy.reciprocal()"
   ]
  },
  {
   "cell_type": "code",
   "execution_count": 44,
   "metadata": {},
   "outputs": [
    {
     "name": "stdout",
     "output_type": "stream",
     "text": [
      "Our array is:\n",
      "[  0.25   1.33   1.     0.   100.  ]\n",
      "\n",
      "\n",
      "After applying reciprocal function:\n",
      "[4.        0.7518797 1.              inf 0.01     ]\n",
      "\n",
      "\n",
      "The second array is:\n",
      "[100]\n",
      "\n",
      "\n",
      "After applying reciprocal function:\n",
      "[0]\n"
     ]
    },
    {
     "name": "stderr",
     "output_type": "stream",
     "text": [
      "C:\\Users\\venka\\Anaconda3\\lib\\site-packages\\ipykernel_launcher.py:9: RuntimeWarning: divide by zero encountered in reciprocal\n",
      "  if __name__ == '__main__':\n"
     ]
    }
   ],
   "source": [
    "import numpy as np \n",
    "a = np.array([0.25, 1.33, 1, 0, 100]) \n",
    "\n",
    "print ('Our array is:' )\n",
    "print (a )\n",
    "print ('\\n'  )\n",
    "\n",
    "print ('After applying reciprocal function:') \n",
    "print (np.reciprocal(a) )\n",
    "print ('\\n'  )\n",
    "\n",
    "b = np.array([100], dtype = int) \n",
    "print ('The second array is:' )\n",
    "print (b )\n",
    "print ('\\n'  )\n",
    "\n",
    "print ('After applying reciprocal function:' )\n",
    "print( np.reciprocal(b) )"
   ]
  },
  {
   "cell_type": "markdown",
   "metadata": {},
   "source": [
    "### numpy.power()"
   ]
  },
  {
   "cell_type": "code",
   "execution_count": 45,
   "metadata": {},
   "outputs": [
    {
     "name": "stdout",
     "output_type": "stream",
     "text": [
      "Our array is:\n",
      "[  10  100 1000]\n",
      "\n",
      "\n",
      "Applying power function:\n",
      "[    100   10000 1000000]\n",
      "\n",
      "\n",
      "Second array:\n",
      "[1 2 3]\n",
      "\n",
      "\n",
      "Applying power function again:\n",
      "[        10      10000 1000000000]\n"
     ]
    }
   ],
   "source": [
    "import numpy as np \n",
    "a = np.array([10,100,1000]) \n",
    "\n",
    "print ('Our array is:') \n",
    "print( a )\n",
    "print( '\\n')  \n",
    "\n",
    "print( 'Applying power function:') \n",
    "print (np.power(a,2) )\n",
    "\n",
    "print ('\\n'  )\n",
    "\n",
    "print ('Second array:') \n",
    "b = np.array([1,2,3]) \n",
    "print( b )\n",
    "print ('\\n')  \n",
    "\n",
    "print ('Applying power function again:') \n",
    "print (np.power(a,b))"
   ]
  },
  {
   "cell_type": "markdown",
   "metadata": {},
   "source": [
    "### numpy.mod()"
   ]
  },
  {
   "cell_type": "code",
   "execution_count": 46,
   "metadata": {},
   "outputs": [
    {
     "name": "stdout",
     "output_type": "stream",
     "text": [
      "First array:\n",
      "[10 20 30]\n",
      "\n",
      "\n",
      "Second array:\n",
      "[3 5 7]\n",
      "\n",
      "\n",
      "Applying mod() function:\n",
      "[1 0 2]\n",
      "\n",
      "\n",
      "Applying remainder() function:\n",
      "[1 0 2]\n"
     ]
    }
   ],
   "source": [
    "import numpy as np \n",
    "a = np.array([10,20,30]) \n",
    "b = np.array([3,5,7]) \n",
    "\n",
    "print ('First array:') \n",
    "print( a )\n",
    "print ('\\n')  \n",
    "\n",
    "print ('Second array:') \n",
    "print( b )\n",
    "print ('\\n' ) \n",
    "\n",
    "print ('Applying mod() function:' )\n",
    "print (np.mod(a,b) )\n",
    "print( '\\n'  )\n",
    "\n",
    "print ('Applying remainder() function:') \n",
    "print (np.remainder(a,b) )"
   ]
  },
  {
   "cell_type": "raw",
   "metadata": {},
   "source": [
    "The following functions are used to perform operations on array with complex numbers.\n",
    "\n",
    "numpy.real() − returns the real part of the complex data type argument.\n",
    "\n",
    "numpy.imag() − returns the imaginary part of the complex data type argument.\n",
    "\n",
    "numpy.conj() − returns the complex conjugate, which is obtained by changing the sign of the imaginary part.\n",
    "\n",
    "numpy.angle() − returns the angle of the complex argument. The function has degree parameter. If true, the angle in the degree is returned, otherwise the angle is in radians."
   ]
  },
  {
   "cell_type": "code",
   "execution_count": 47,
   "metadata": {},
   "outputs": [
    {
     "name": "stdout",
     "output_type": "stream",
     "text": [
      "Our array is:\n",
      "[-0.-5.6j  0.+0.2j 11.+0.j   1.+1.j ]\n",
      "\n",
      "\n",
      "Applying real() function:\n",
      "[-0.  0. 11.  1.]\n",
      "\n",
      "\n",
      "Applying imag() function:\n",
      "[-5.6  0.2  0.   1. ]\n",
      "\n",
      "\n",
      "Applying conj() function:\n",
      "[-0.+5.6j  0.-0.2j 11.-0.j   1.-1.j ]\n",
      "\n",
      "\n",
      "Applying angle() function:\n",
      "[-1.57079633  1.57079633  0.          0.78539816]\n",
      "\n",
      "\n",
      "Applying angle() function again (result in degrees)\n",
      "[-90.  90.   0.  45.]\n"
     ]
    }
   ],
   "source": [
    "import numpy as np \n",
    "a = np.array([-5.6j, 0.2j, 11. , 1+1j]) \n",
    "\n",
    "print ('Our array is:' )\n",
    "print (a )\n",
    "print ('\\n')  \n",
    "\n",
    "print ('Applying real() function:') \n",
    "print (np.real(a) )\n",
    "print ('\\n')  \n",
    "\n",
    "print ('Applying imag() function:') \n",
    "print (np.imag(a) )\n",
    "print ('\\n')  \n",
    "print ('Applying conj() function:') \n",
    "print (np.conj(a))\n",
    "print ('\\n' ) \n",
    "\n",
    "print ('Applying angle() function:') \n",
    "print (np.angle(a) )\n",
    "print ('\\n' ) \n",
    "\n",
    "print ('Applying angle() function again (result in degrees)') \n",
    "print (np.angle(a, deg = True))\n"
   ]
  },
  {
   "cell_type": "markdown",
   "metadata": {},
   "source": [
    "# NumPy - Statistical Functions"
   ]
  },
  {
   "cell_type": "markdown",
   "metadata": {},
   "source": [
    "### numpy.amin() and numpy.amax()"
   ]
  },
  {
   "cell_type": "code",
   "execution_count": 51,
   "metadata": {},
   "outputs": [
    {
     "ename": "SyntaxError",
     "evalue": "invalid syntax (<ipython-input-51-c6dc9d4b4a9b>, line 6)",
     "output_type": "error",
     "traceback": [
      "\u001b[1;36m  File \u001b[1;32m\"<ipython-input-51-c6dc9d4b4a9b>\"\u001b[1;36m, line \u001b[1;32m6\u001b[0m\n\u001b[1;33m    print ('\\n'))\u001b[0m\n\u001b[1;37m                ^\u001b[0m\n\u001b[1;31mSyntaxError\u001b[0m\u001b[1;31m:\u001b[0m invalid syntax\n"
     ]
    }
   ],
   "source": [
    "import numpy as np \n",
    "a = np.array([[3,7,5],[8,4,3],[2,4,9]]) \n",
    "\n",
    "print ('Our array is:' )\n",
    "print( a)  \n",
    "print ('\\n'))  \n",
    "\n",
    "print ('Applying amin() function:') \n",
    "print (np.amin(a,1) )\n",
    "print ('\\n'  )\n",
    "\n",
    "print ('Applying amin() function again:') \n",
    "print (np.amin(a,0) )\n",
    "print ('\\n'  )\n",
    "\n",
    "print ('Applying amax() function:') \n",
    "print (np.amax(a) )\n",
    "print ('\\n'  )\n",
    "\n",
    "print ('Applying amax() function again:') \n",
    "print (np.amax(a, axis = 0))"
   ]
  },
  {
   "cell_type": "markdown",
   "metadata": {},
   "source": [
    "### numpy.ptp()"
   ]
  },
  {
   "cell_type": "code",
   "execution_count": 52,
   "metadata": {},
   "outputs": [
    {
     "name": "stdout",
     "output_type": "stream",
     "text": [
      "Our array is:\n",
      "[[3 7 5]\n",
      " [8 4 3]\n",
      " [2 4 9]]\n",
      "\n",
      "\n",
      "Applying ptp() function:\n",
      "7\n",
      "\n",
      "\n",
      "Applying ptp() function along axis 1:\n",
      "[4 5 7]\n",
      "\n",
      "\n",
      "Applying ptp() function along axis 0:\n",
      "[6 3 6]\n"
     ]
    }
   ],
   "source": [
    "import numpy as np \n",
    "a = np.array([[3,7,5],[8,4,3],[2,4,9]]) \n",
    "\n",
    "print ('Our array is:' )\n",
    "print (a )\n",
    "print ('\\n')  \n",
    "\n",
    "print ('Applying ptp() function:') \n",
    "print (np.ptp(a) )\n",
    "print ('\\n'  )\n",
    "\n",
    "print ('Applying ptp() function along axis 1:') \n",
    "print (np.ptp(a, axis = 1) )\n",
    "print ('\\n')   \n",
    "\n",
    "print ('Applying ptp() function along axis 0:')\n",
    "print (np.ptp(a, axis = 0) )"
   ]
  },
  {
   "cell_type": "markdown",
   "metadata": {},
   "source": [
    "### numpy.percentile()"
   ]
  },
  {
   "cell_type": "raw",
   "metadata": {},
   "source": [
    "numpy.percentile(a, q, axis)"
   ]
  },
  {
   "cell_type": "code",
   "execution_count": 53,
   "metadata": {},
   "outputs": [
    {
     "name": "stdout",
     "output_type": "stream",
     "text": [
      "Our array is:\n",
      "[[30 40 70]\n",
      " [80 20 10]\n",
      " [50 90 60]]\n",
      "\n",
      "\n",
      "Applying percentile() function:\n",
      "50.0\n",
      "\n",
      "\n",
      "Applying percentile() function along axis 1:\n",
      "[40. 20. 60.]\n",
      "\n",
      "\n",
      "Applying percentile() function along axis 0:\n",
      "[50. 40. 60.]\n"
     ]
    }
   ],
   "source": [
    "import numpy as np \n",
    "a = np.array([[30,40,70],[80,20,10],[50,90,60]]) \n",
    "\n",
    "print ('Our array is:' )\n",
    "print( a )\n",
    "print ('\\n') \n",
    "\n",
    "print ('Applying percentile() function:') \n",
    "print (np.percentile(a,50) )\n",
    "print ('\\n'  )\n",
    "\n",
    "print ('Applying percentile() function along axis 1:' )\n",
    "print (np.percentile(a,50, axis = 1) )\n",
    "print ('\\n'  )\n",
    "\n",
    "print ('Applying percentile() function along axis 0:') \n",
    "print (np.percentile(a,50, axis = 0))"
   ]
  },
  {
   "cell_type": "markdown",
   "metadata": {},
   "source": [
    "### numpy.median()"
   ]
  },
  {
   "cell_type": "code",
   "execution_count": 54,
   "metadata": {},
   "outputs": [
    {
     "name": "stdout",
     "output_type": "stream",
     "text": [
      "Our array is:\n",
      "[[30 65 70]\n",
      " [80 95 10]\n",
      " [50 90 60]]\n",
      "\n",
      "\n",
      "Applying median() function:\n",
      "65.0\n",
      "\n",
      "\n",
      "Applying median() function along axis 0:\n",
      "[50. 90. 60.]\n",
      "\n",
      "\n",
      "Applying median() function along axis 1:\n",
      "[65. 80. 60.]\n"
     ]
    }
   ],
   "source": [
    "import numpy as np \n",
    "a = np.array([[30,65,70],[80,95,10],[50,90,60]]) \n",
    "\n",
    "print ('Our array is:') \n",
    "print (a )\n",
    "print ('\\n')  \n",
    "\n",
    "print ('Applying median() function:') \n",
    "print (np.median(a) )\n",
    "print ('\\n')  \n",
    "\n",
    "print ('Applying median() function along axis 0:') \n",
    "print (np.median(a, axis = 0) )\n",
    "print ('\\n')  \n",
    " \n",
    "print ('Applying median() function along axis 1:' )\n",
    "print (np.median(a, axis = 1))"
   ]
  },
  {
   "cell_type": "markdown",
   "metadata": {},
   "source": [
    "### numpy.mean()"
   ]
  },
  {
   "cell_type": "code",
   "execution_count": 55,
   "metadata": {},
   "outputs": [
    {
     "name": "stdout",
     "output_type": "stream",
     "text": [
      "Our array is:\n",
      "[[1 2 3]\n",
      " [3 4 5]\n",
      " [4 5 6]]\n",
      "\n",
      "\n",
      "Applying mean() function:\n",
      "3.6666666666666665\n",
      "\n",
      "\n",
      "Applying mean() function along axis 0:\n",
      "[2.66666667 3.66666667 4.66666667]\n",
      "\n",
      "\n",
      "Applying mean() function along axis 1:\n",
      "[2. 4. 5.]\n"
     ]
    }
   ],
   "source": [
    "import numpy as np \n",
    "a = np.array([[1,2,3],[3,4,5],[4,5,6]]) \n",
    "\n",
    "print ('Our array is:' )\n",
    "print (a )\n",
    "print ('\\n')  \n",
    "\n",
    "print ('Applying mean() function:') \n",
    "print (np.mean(a)) \n",
    "print ('\\n')  \n",
    "\n",
    "print ('Applying mean() function along axis 0:' )\n",
    "print (np.mean(a, axis = 0) )\n",
    "print ('\\n'  )\n",
    "\n",
    "print ('Applying mean() function along axis 1:') \n",
    "print (np.mean(a, axis = 1))"
   ]
  },
  {
   "cell_type": "markdown",
   "metadata": {},
   "source": [
    "### numpy.average()"
   ]
  },
  {
   "cell_type": "code",
   "execution_count": 56,
   "metadata": {},
   "outputs": [
    {
     "name": "stdout",
     "output_type": "stream",
     "text": [
      "Our array is:\n",
      "[1 2 3 4]\n",
      "\n",
      "\n",
      "Applying average() function:\n",
      "2.5\n",
      "\n",
      "\n",
      "Applying average() function again:\n",
      "2.0\n",
      "\n",
      "\n",
      "Sum of weights\n",
      "(2.0, 10.0)\n"
     ]
    }
   ],
   "source": [
    "import numpy as np \n",
    "a = np.array([1,2,3,4]) \n",
    "\n",
    "print ('Our array is:') \n",
    "print (a )\n",
    "print ('\\n')  \n",
    "\n",
    "print ('Applying average() function:') \n",
    "print (np.average(a) )\n",
    "print ('\\n'  )\n",
    "\n",
    "# this is same as mean when weight is not specified \n",
    "wts = np.array([4,3,2,1]) \n",
    "\n",
    "print ('Applying average() function again:' )\n",
    "print( np.average(a,weights = wts) )\n",
    "print ('\\n'  )\n",
    "\n",
    "# Returns the sum of weights, if the returned parameter is set to True. \n",
    "print ('Sum of weights' )\n",
    "print( np.average([1,2,3, 4],weights = [4,3,2,1], returned = True))"
   ]
  },
  {
   "cell_type": "code",
   "execution_count": 58,
   "metadata": {},
   "outputs": [
    {
     "name": "stdout",
     "output_type": "stream",
     "text": [
      "Our array is:\n",
      "[[0 1]\n",
      " [2 3]\n",
      " [4 5]]\n",
      "\n",
      "\n",
      "Modified array:\n",
      "[0.625 2.625 4.625]\n",
      "\n",
      "\n",
      "Modified array:\n",
      "(array([0.625, 2.625, 4.625]), array([8., 8., 8.]))\n"
     ]
    }
   ],
   "source": [
    "\n",
    "import numpy as np \n",
    "a = np.arange(6).reshape(3,2) \n",
    "\n",
    "print('Our array is:' )\n",
    "print (a )\n",
    "print ('\\n')  \n",
    "\n",
    "print ('Modified array:') \n",
    "wt = np.array([3,5]) \n",
    "print( np.average(a, axis = 1, weights = wt)) \n",
    "print ('\\n'  )\n",
    "\n",
    "print ('Modified array:') \n",
    "print (np.average(a, axis = 1, weights = wt, returned = True))"
   ]
  },
  {
   "cell_type": "markdown",
   "metadata": {},
   "source": [
    "# Standard Deviation"
   ]
  },
  {
   "cell_type": "raw",
   "metadata": {},
   "source": [
    "std = sqrt(mean(abs(x - x.mean())**2))"
   ]
  },
  {
   "cell_type": "code",
   "execution_count": 60,
   "metadata": {},
   "outputs": [
    {
     "name": "stdout",
     "output_type": "stream",
     "text": [
      "1.118033988749895\n"
     ]
    }
   ],
   "source": [
    "import numpy as np \n",
    "print( np.std([1,2,3,4]))"
   ]
  },
  {
   "cell_type": "markdown",
   "metadata": {},
   "source": [
    "# Variance"
   ]
  },
  {
   "cell_type": "code",
   "execution_count": 61,
   "metadata": {},
   "outputs": [
    {
     "name": "stdout",
     "output_type": "stream",
     "text": [
      "1.25\n"
     ]
    }
   ],
   "source": [
    "import numpy as np \n",
    "print (np.var([1,2,3,4]))"
   ]
  },
  {
   "cell_type": "markdown",
   "metadata": {},
   "source": [
    "# NumPy - Sort, Search & Counting Functions"
   ]
  },
  {
   "cell_type": "markdown",
   "metadata": {},
   "source": [
    "### numpy.sort()"
   ]
  },
  {
   "cell_type": "raw",
   "metadata": {},
   "source": [
    "numpy.sort(a, axis, kind, order)"
   ]
  },
  {
   "cell_type": "code",
   "execution_count": 62,
   "metadata": {},
   "outputs": [
    {
     "name": "stdout",
     "output_type": "stream",
     "text": [
      "Our array is:\n",
      "[[3 7]\n",
      " [9 1]]\n",
      "\n",
      "\n",
      "Applying sort() function:\n",
      "[[3 7]\n",
      " [1 9]]\n",
      "\n",
      "\n",
      "Sort along axis 0:\n",
      "[[3 1]\n",
      " [9 7]]\n",
      "\n",
      "\n",
      "Our array is:\n",
      "[(b'raju', 21) (b'anil', 25) (b'ravi', 17) (b'amar', 27)]\n",
      "\n",
      "\n",
      "Order by name:\n",
      "[(b'amar', 27) (b'anil', 25) (b'raju', 21) (b'ravi', 17)]\n"
     ]
    }
   ],
   "source": [
    "import numpy as np  \n",
    "a = np.array([[3,7],[9,1]]) \n",
    "\n",
    "print ('Our array is:' )\n",
    "print( a )\n",
    "print ('\\n')\n",
    "\n",
    "print ('Applying sort() function:') \n",
    "print (np.sort(a)) \n",
    "print ('\\n') \n",
    "  \n",
    "print ('Sort along axis 0:' )\n",
    "print (np.sort(a, axis = 0)) \n",
    "print ('\\n'  )\n",
    "\n",
    "# Order parameter in sort function \n",
    "dt = np.dtype([('name', 'S10'),('age', int)]) \n",
    "a = np.array([(\"raju\",21),(\"anil\",25),(\"ravi\", 17), (\"amar\",27)], dtype = dt) \n",
    "\n",
    "print ('Our array is:') \n",
    "print (a )\n",
    "print ('\\n')  \n",
    "\n",
    "print ('Order by name:') \n",
    "print (np.sort(a, order = 'name'))"
   ]
  },
  {
   "cell_type": "markdown",
   "metadata": {},
   "source": [
    "### numpy.argsort()"
   ]
  },
  {
   "cell_type": "code",
   "execution_count": 63,
   "metadata": {},
   "outputs": [
    {
     "name": "stdout",
     "output_type": "stream",
     "text": [
      "Our array is:\n",
      "[3 1 2]\n",
      "\n",
      "\n",
      "Applying argsort() to x:\n",
      "[1 2 0]\n",
      "\n",
      "\n",
      "Reconstruct original array in sorted order:\n",
      "[1 2 3]\n",
      "\n",
      "\n",
      "Reconstruct the original array using loop:\n",
      "1\n",
      "2\n",
      "3\n"
     ]
    }
   ],
   "source": [
    "import numpy as np \n",
    "x = np.array([3, 1, 2]) \n",
    "\n",
    "print( 'Our array is:') \n",
    "print (x )\n",
    "print ('\\n')  \n",
    "\n",
    "print( 'Applying argsort() to x:' )\n",
    "y = np.argsort(x) \n",
    "print (y )\n",
    "print ('\\n')  \n",
    "\n",
    "print ('Reconstruct original array in sorted order:') \n",
    "print (x[y] )\n",
    "print ('\\n'  )\n",
    "\n",
    "print ('Reconstruct the original array using loop:' )\n",
    "for i in y: \n",
    "   print( x[i],)"
   ]
  },
  {
   "cell_type": "markdown",
   "metadata": {},
   "source": [
    "# numpy.lexsort()"
   ]
  },
  {
   "cell_type": "code",
   "execution_count": 64,
   "metadata": {},
   "outputs": [
    {
     "name": "stdout",
     "output_type": "stream",
     "text": [
      "applying lexsort() function:\n",
      "[3 1 0 2]\n",
      "\n",
      "\n",
      "Use this index to get sorted data:\n",
      "['amar, f.y.', 'anil, s.y.', 'raju, f.y.', 'ravi, s.y.']\n"
     ]
    }
   ],
   "source": [
    "nm = ('raju','anil','ravi','amar') \n",
    "dv = ('f.y.', 's.y.', 's.y.', 'f.y.') \n",
    "ind = np.lexsort((dv,nm)) \n",
    "\n",
    "print ('applying lexsort() function:' )\n",
    "print (ind )\n",
    "print ('\\n' ) \n",
    "\n",
    "print ('Use this index to get sorted data:' )\n",
    "print ([nm[i] + \", \" + dv[i] for i in ind] )"
   ]
  },
  {
   "cell_type": "markdown",
   "metadata": {},
   "source": [
    "# numpy.argmax() and numpy.argmin()"
   ]
  },
  {
   "cell_type": "code",
   "execution_count": 69,
   "metadata": {},
   "outputs": [
    {
     "name": "stdout",
     "output_type": "stream",
     "text": [
      "Our array is:\n",
      "[[30 40 70]\n",
      " [80 20 10]\n",
      " [50 90 60]]\n",
      "\n",
      "\n",
      "Applying argmax() function:\n",
      "7\n",
      "\n",
      "\n",
      "Index of maximum number in flattened array\n",
      "[30 40 70 80 20 10 50 90 60]\n",
      "\n",
      "\n",
      "Array containing indices of maximum along axis 0:\n",
      "[1 2 0]\n",
      "\n",
      "\n",
      "Array containing indices of maximum along axis 1:\n",
      "[2 0 1]\n",
      "\n",
      "\n",
      "Applying argmin() function:\n",
      "5\n",
      "\n",
      "\n",
      "Flattened array:\n",
      "10\n",
      "\n",
      "\n",
      "Flattened array along axis 0:\n",
      "[0 1 1]\n",
      "\n",
      "\n",
      "Flattened array along axis 1:\n",
      "[0 2 0]\n"
     ]
    }
   ],
   "source": [
    "import numpy as np \n",
    "a = np.array([[30,40,70],[80,20,10],[50,90,60]]) \n",
    "\n",
    "print ('Our array is:') \n",
    "print (a )\n",
    "print ('\\n') \n",
    "\n",
    "print ('Applying argmax() function:') \n",
    "print (np.argmax(a) )\n",
    "print ('\\n'  )\n",
    "\n",
    "print ('Index of maximum number in flattened array') \n",
    "print (a.flatten() )\n",
    "print ('\\n'  )\n",
    "\n",
    "print ('Array containing indices of maximum along axis 0:' )\n",
    "maxindex = np.argmax(a, axis = 0) \n",
    "print (maxindex )\n",
    "print ('\\n'  )\n",
    "\n",
    "print ('Array containing indices of maximum along axis 1:' )\n",
    "maxindex = np.argmax(a, axis = 1) \n",
    "print (maxindex )\n",
    "print ('\\n'  )\n",
    "\n",
    "print ('Applying argmin() function:' )\n",
    "minindex = np.argmin(a) \n",
    "print (minindex )\n",
    "print ('\\n' ) \n",
    "   \n",
    "print ('Flattened array:') \n",
    "print (a.flatten()[minindex]) \n",
    "print ('\\n'  )\n",
    "\n",
    "print ('Flattened array along axis 0:') \n",
    "minindex = np.argmin(a, axis = 0) \n",
    "print (minindex)\n",
    "print ('\\n')\n",
    "\n",
    "print ('Flattened array along axis 1:' )\n",
    "minindex = np.argmin(a, axis = 1) \n",
    "print( minindex)"
   ]
  },
  {
   "cell_type": "markdown",
   "metadata": {},
   "source": [
    "# numpy.nonzero()"
   ]
  },
  {
   "cell_type": "code",
   "execution_count": 73,
   "metadata": {},
   "outputs": [
    {
     "name": "stdout",
     "output_type": "stream",
     "text": [
      "Our array is:\n",
      "[[30 40  0]\n",
      " [ 0 20 10]\n",
      " [50  0 60]]\n",
      "\n",
      "\n",
      "Applying nonzero() function:\n",
      "(array([0, 0, 1, 1, 2, 2], dtype=int64), array([0, 1, 1, 2, 0, 2], dtype=int64))\n"
     ]
    }
   ],
   "source": [
    "import numpy as np \n",
    "a = np.array([[30,40,0],[0,20,10],[50,0,60]]) \n",
    "\n",
    "print ('Our array is:') \n",
    "print (a) \n",
    "print( '\\n'  )\n",
    "\n",
    "print ('Applying nonzero() function:' )\n",
    "print (np.nonzero (a))\n",
    "\n"
   ]
  },
  {
   "cell_type": "markdown",
   "metadata": {},
   "source": [
    "# numpy.where()"
   ]
  },
  {
   "cell_type": "code",
   "execution_count": 74,
   "metadata": {},
   "outputs": [
    {
     "name": "stdout",
     "output_type": "stream",
     "text": [
      "Our array is:\n",
      "[[0. 1. 2.]\n",
      " [3. 4. 5.]\n",
      " [6. 7. 8.]]\n",
      "Indices of elements > 3\n",
      "(array([1, 1, 2, 2, 2], dtype=int64), array([1, 2, 0, 1, 2], dtype=int64))\n",
      "Use these indices to get elements satisfying the condition\n",
      "[4. 5. 6. 7. 8.]\n"
     ]
    }
   ],
   "source": [
    "import numpy as np \n",
    "x = np.arange(9.).reshape(3, 3) \n",
    "\n",
    "print ('Our array is:') \n",
    "print( x  )\n",
    "\n",
    "print ('Indices of elements > 3' )\n",
    "y = np.where(x > 3) \n",
    "print( y)  \n",
    "\n",
    "print ('Use these indices to get elements satisfying the condition') \n",
    "print (x[y])"
   ]
  },
  {
   "cell_type": "markdown",
   "metadata": {},
   "source": [
    "# numpy.extract()"
   ]
  },
  {
   "cell_type": "code",
   "execution_count": 75,
   "metadata": {},
   "outputs": [
    {
     "name": "stdout",
     "output_type": "stream",
     "text": [
      "Our array is:\n",
      "[[0. 1. 2.]\n",
      " [3. 4. 5.]\n",
      " [6. 7. 8.]]\n",
      "Element-wise value of condition\n",
      "[[ True False  True]\n",
      " [False  True False]\n",
      " [ True False  True]]\n",
      "Extract elements using condition\n",
      "[0. 2. 4. 6. 8.]\n"
     ]
    }
   ],
   "source": [
    "import numpy as np \n",
    "x = np.arange(9.).reshape(3, 3) \n",
    "\n",
    "print ('Our array is:' )\n",
    "print( x ) \n",
    "\n",
    "# define a condition \n",
    "condition = np.mod(x,2) == 0 \n",
    "\n",
    "print ('Element-wise value of condition' )\n",
    "print (condition  )\n",
    "\n",
    "print ('Extract elements using condition' )\n",
    "print (np.extract(condition, x))"
   ]
  },
  {
   "cell_type": "markdown",
   "metadata": {},
   "source": [
    "# NumPy - Byte Swapping"
   ]
  },
  {
   "cell_type": "markdown",
   "metadata": {},
   "source": [
    "### numpy.ndarray.byteswap()"
   ]
  },
  {
   "cell_type": "code",
   "execution_count": 76,
   "metadata": {},
   "outputs": [
    {
     "name": "stdout",
     "output_type": "stream",
     "text": [
      "Our array is:\n",
      "[   1  256 8755]\n",
      "Representation of data in memory in hexadecimal form:\n",
      "<map object at 0x0000017DD2AECAC8>\n",
      "Applying byteswap() function:\n",
      "[  256     1 13090]\n",
      "In hexadecimal form:\n",
      "<map object at 0x0000017DD2AECFC8>\n"
     ]
    }
   ],
   "source": [
    "import numpy as np \n",
    "a = np.array([1, 256, 8755], dtype = np.int16) \n",
    "\n",
    "print ( 'Our array is:') \n",
    "print( a ) \n",
    "\n",
    "print( 'Representation of data in memory in hexadecimal form:'  )\n",
    "print (map(hex,a) ) \n",
    "# byteswap() function swaps in place by passing True parameter \n",
    "\n",
    "print ('Applying byteswap() function:') \n",
    "print (a.byteswap(True)) \n",
    "\n",
    "print ('In hexadecimal form:') \n",
    "print( map(hex,a) )\n",
    "# We can see the bytes being swapped"
   ]
  },
  {
   "cell_type": "markdown",
   "metadata": {},
   "source": [
    "# NumPy - Copies & Views"
   ]
  },
  {
   "cell_type": "markdown",
   "metadata": {},
   "source": [
    "### No Copy"
   ]
  },
  {
   "cell_type": "code",
   "execution_count": 77,
   "metadata": {},
   "outputs": [
    {
     "name": "stdout",
     "output_type": "stream",
     "text": [
      "Our array is:\n",
      "[0 1 2 3 4 5]\n",
      "Applying id() function:\n",
      "1639917367168\n",
      "a is assigned to b:\n",
      "[0 1 2 3 4 5]\n",
      "b has same id():\n",
      "1639917367168\n",
      "Change shape of b:\n",
      "[[0 1]\n",
      " [2 3]\n",
      " [4 5]]\n",
      "Shape of a also gets changed:\n",
      "[[0 1]\n",
      " [2 3]\n",
      " [4 5]]\n"
     ]
    }
   ],
   "source": [
    "import numpy as np \n",
    "a = np.arange(6) \n",
    "\n",
    "print ('Our array is:') \n",
    "print (a ) \n",
    "\n",
    "print ('Applying id() function:') \n",
    "print( id(a)  )\n",
    "\n",
    "print ('a is assigned to b:') \n",
    "b = a \n",
    "print (b  )\n",
    "\n",
    "print ('b has same id():') \n",
    "print (id(b))  \n",
    "\n",
    "print ('Change shape of b:') \n",
    "b.shape = (3,2) \n",
    "print( b ) \n",
    "\n",
    "print ('Shape of a also gets changed:') \n",
    "print (a)"
   ]
  },
  {
   "cell_type": "markdown",
   "metadata": {},
   "source": [
    "### View or Shallow Copy"
   ]
  },
  {
   "cell_type": "code",
   "execution_count": 78,
   "metadata": {},
   "outputs": [
    {
     "name": "stdout",
     "output_type": "stream",
     "text": [
      "Array a:\n",
      "[[0 1]\n",
      " [2 3]\n",
      " [4 5]]\n",
      "Create view of a:\n",
      "[[0 1]\n",
      " [2 3]\n",
      " [4 5]]\n",
      "id() for both the arrays are different:\n",
      "id() of a:\n",
      "1639917320912\n",
      "id() of b:\n",
      "1639917320992\n",
      "Shape of b:\n",
      "[[0 1 2]\n",
      " [3 4 5]]\n",
      "Shape of a:\n",
      "[[0 1]\n",
      " [2 3]\n",
      " [4 5]]\n"
     ]
    }
   ],
   "source": [
    "import numpy as np \n",
    "# To begin with, a is 3X2 array \n",
    "a = np.arange(6).reshape(3,2) \n",
    "\n",
    "print ('Array a:') \n",
    "print (a)  \n",
    "\n",
    "print ('Create view of a:') \n",
    "b = a.view() \n",
    "print( b  )\n",
    "\n",
    "print ('id() for both the arrays are different:') \n",
    "print ('id() of a:')\n",
    "print (id(a) ) \n",
    "print ('id() of b:') \n",
    "print (id(b))  \n",
    "\n",
    "# Change the shape of b. It does not change the shape of a \n",
    "b.shape = (2,3) \n",
    "\n",
    "print ('Shape of b:') \n",
    "print (b)  \n",
    "\n",
    "print ('Shape of a:') \n",
    "print (a)"
   ]
  },
  {
   "cell_type": "code",
   "execution_count": 79,
   "metadata": {},
   "outputs": [
    {
     "name": "stdout",
     "output_type": "stream",
     "text": [
      "Our array is:\n",
      "[[10 10]\n",
      " [ 2  3]\n",
      " [ 4  5]]\n",
      "Create a slice:\n",
      "[[10 10]\n",
      " [ 2  3]\n",
      " [ 4  5]]\n"
     ]
    }
   ],
   "source": [
    "import numpy as np \n",
    "a = np.array([[10,10], [2,3], [4,5]]) \n",
    "\n",
    "print ('Our array is:') \n",
    "print( a ) \n",
    "\n",
    "print ('Create a slice:') \n",
    "s = a[:, :2] \n",
    "print( s )"
   ]
  },
  {
   "cell_type": "markdown",
   "metadata": {},
   "source": [
    "# Deep Copy\n",
    "The ndarray.copy() function creates a deep copy. It is a complete copy of the array and its data, and doesn’t share with the original array."
   ]
  },
  {
   "cell_type": "code",
   "execution_count": 80,
   "metadata": {},
   "outputs": [
    {
     "name": "stdout",
     "output_type": "stream",
     "text": [
      "Array a is:\n",
      "[[10 10]\n",
      " [ 2  3]\n",
      " [ 4  5]]\n",
      "Create a deep copy of a:\n",
      "Array b is:\n",
      "[[10 10]\n",
      " [ 2  3]\n",
      " [ 4  5]]\n",
      "Can we write b is a\n",
      "False\n",
      "Change the contents of b:\n",
      "Modified array b:\n",
      "[[100  10]\n",
      " [  2   3]\n",
      " [  4   5]]\n",
      "a remains unchanged:\n",
      "[[10 10]\n",
      " [ 2  3]\n",
      " [ 4  5]]\n"
     ]
    }
   ],
   "source": [
    "import numpy as np \n",
    "a = np.array([[10,10], [2,3], [4,5]]) \n",
    "\n",
    "print ('Array a is:') \n",
    "print (a)  \n",
    "\n",
    "print ('Create a deep copy of a:') \n",
    "b = a.copy() \n",
    "print ('Array b is:')\n",
    "print (b) \n",
    "\n",
    "#b does not share any memory of a \n",
    "print ('Can we write b is a') \n",
    "print (b is a)  \n",
    "\n",
    "print ('Change the contents of b:')\n",
    "b[0,0] = 100 \n",
    "\n",
    "print ('Modified array b:' )\n",
    "print (b ) \n",
    "\n",
    "print ('a remains unchanged:') \n",
    "print (a)"
   ]
  },
  {
   "cell_type": "markdown",
   "metadata": {},
   "source": [
    "# NumPy - Matrix Library"
   ]
  },
  {
   "cell_type": "markdown",
   "metadata": {},
   "source": [
    "### NumPy package contains a Matrix library numpy.matlib. This module has functions that return matrices instead of ndarray objects.\n",
    "\n",
    "matlib.empty()\n",
    "The matlib.empty() function returns a new matrix without initializing the entries. The function takes the following parameters.\n",
    "\n",
    "numpy.matlib.empty(shape, dtype, order)"
   ]
  },
  {
   "cell_type": "code",
   "execution_count": 81,
   "metadata": {},
   "outputs": [
    {
     "name": "stdout",
     "output_type": "stream",
     "text": [
      "[[2. 4.]\n",
      " [6. 8.]]\n"
     ]
    }
   ],
   "source": [
    "import numpy.matlib \n",
    "import numpy as np \n",
    "\n",
    "print (np.matlib.empty((2,2)) )\n",
    "# filled with random data"
   ]
  },
  {
   "cell_type": "markdown",
   "metadata": {},
   "source": [
    "### numpy.matlib.zeros()\n",
    "This function returns the matrix filled with zeros."
   ]
  },
  {
   "cell_type": "code",
   "execution_count": 82,
   "metadata": {},
   "outputs": [
    {
     "name": "stdout",
     "output_type": "stream",
     "text": [
      "[[0. 0.]\n",
      " [0. 0.]]\n"
     ]
    }
   ],
   "source": [
    "import numpy.matlib \n",
    "import numpy as np \n",
    "print (np.matlib.zeros((2,2))) "
   ]
  },
  {
   "cell_type": "markdown",
   "metadata": {},
   "source": [
    "### numpy.matlib.ones()\n",
    "This function returns the matrix filled with 1s.\n",
    "\n"
   ]
  },
  {
   "cell_type": "code",
   "execution_count": 83,
   "metadata": {},
   "outputs": [
    {
     "name": "stdout",
     "output_type": "stream",
     "text": [
      "[[1. 1.]\n",
      " [1. 1.]]\n"
     ]
    }
   ],
   "source": [
    "import numpy.matlib \n",
    "import numpy as np \n",
    "print (np.matlib.ones((2,2)))"
   ]
  },
  {
   "cell_type": "markdown",
   "metadata": {},
   "source": [
    "### numpy.matlib.eye()\n",
    "This function returns a matrix with 1 along the diagonal elements and the zeros elsewhere. The function takes the following parameters.\n",
    "\n",
    "numpy.matlib.eye(n, M,k, dtype)"
   ]
  },
  {
   "cell_type": "code",
   "execution_count": 84,
   "metadata": {},
   "outputs": [
    {
     "name": "stdout",
     "output_type": "stream",
     "text": [
      "[[1. 0. 0. 0.]\n",
      " [0. 1. 0. 0.]\n",
      " [0. 0. 1. 0.]]\n"
     ]
    }
   ],
   "source": [
    "import numpy.matlib \n",
    "import numpy as np \n",
    "print (np.matlib.eye(n = 3, M = 4, k = 0, dtype = float))"
   ]
  },
  {
   "cell_type": "markdown",
   "metadata": {},
   "source": [
    "### numpy.matlib.identity()\n",
    "The numpy.matlib.identity() function returns the Identity matrix of the given size. An identity matrix is a square matrix with all diagonal elements as 1.\n",
    "\n"
   ]
  },
  {
   "cell_type": "code",
   "execution_count": 85,
   "metadata": {},
   "outputs": [
    {
     "name": "stdout",
     "output_type": "stream",
     "text": [
      "[[1. 0. 0. 0. 0.]\n",
      " [0. 1. 0. 0. 0.]\n",
      " [0. 0. 1. 0. 0.]\n",
      " [0. 0. 0. 1. 0.]\n",
      " [0. 0. 0. 0. 1.]]\n"
     ]
    }
   ],
   "source": [
    "import numpy.matlib \n",
    "import numpy as np \n",
    "print (np.matlib.identity(5, dtype = float))"
   ]
  },
  {
   "cell_type": "markdown",
   "metadata": {},
   "source": [
    "### numpy.matlib.rand()\n",
    "The numpy.matlib.rand() function returns a matrix of the given size filled with random values."
   ]
  },
  {
   "cell_type": "code",
   "execution_count": 86,
   "metadata": {},
   "outputs": [
    {
     "name": "stdout",
     "output_type": "stream",
     "text": [
      "[[0.29757388 0.76917378 0.60162414]\n",
      " [0.00874163 0.39690289 0.69687463]\n",
      " [0.22697712 0.0557471  0.10180955]]\n"
     ]
    }
   ],
   "source": [
    "import numpy.matlib \n",
    "import numpy as np \n",
    "print (np.matlib.rand(3,3))"
   ]
  },
  {
   "cell_type": "code",
   "execution_count": 87,
   "metadata": {},
   "outputs": [
    {
     "name": "stdout",
     "output_type": "stream",
     "text": [
      "[[1 2]\n",
      " [3 4]]\n"
     ]
    }
   ],
   "source": [
    "import numpy.matlib \n",
    "import numpy as np  \n",
    "\n",
    "i = np.matrix('1,2;3,4') \n",
    "print(i)  "
   ]
  },
  {
   "cell_type": "code",
   "execution_count": 88,
   "metadata": {},
   "outputs": [
    {
     "name": "stdout",
     "output_type": "stream",
     "text": [
      "[[1 2]\n",
      " [3 4]]\n"
     ]
    }
   ],
   "source": [
    "import numpy.matlib \n",
    "import numpy as np  \n",
    "\n",
    "j = np.asarray(i) \n",
    "print (j) "
   ]
  },
  {
   "cell_type": "code",
   "execution_count": 89,
   "metadata": {},
   "outputs": [
    {
     "name": "stdout",
     "output_type": "stream",
     "text": [
      "[[1 2]\n",
      " [3 4]]\n"
     ]
    }
   ],
   "source": [
    "import numpy.matlib \n",
    "import numpy as np  \n",
    "\n",
    "k = np.asmatrix (j) \n",
    "print (k)"
   ]
  },
  {
   "cell_type": "markdown",
   "metadata": {},
   "source": [
    "# NumPy - Linear Algebra"
   ]
  },
  {
   "cell_type": "markdown",
   "metadata": {},
   "source": [
    "### NumPy package contains numpy.linalg module that provides all the functionality required for linear algebra."
   ]
  },
  {
   "cell_type": "markdown",
   "metadata": {},
   "source": [
    "# NumPy - Matplotlib"
   ]
  },
  {
   "cell_type": "code",
   "execution_count": 90,
   "metadata": {},
   "outputs": [
    {
     "data": {
      "image/png": "[encoded data removed]",
      "text/plain": [
       "<Figure size 432x288 with 1 Axes>"
      ]
     },
     "metadata": {
      "needs_background": "light"
     },
     "output_type": "display_data"
    }
   ],
   "source": [
    "import numpy as np \n",
    "from matplotlib import pyplot as plt \n",
    "\n",
    "x = np.arange(1,11) \n",
    "y = 2 * x + 5 \n",
    "plt.title(\"Matplotlib demo\") \n",
    "plt.xlabel(\"x axis caption\") \n",
    "plt.ylabel(\"y axis caption\") \n",
    "plt.plot(x,y) \n",
    "plt.show()"
   ]
  },
  {
   "cell_type": "code",
   "execution_count": 91,
   "metadata": {},
   "outputs": [
    {
     "data": {
      "image/png": "[encoded data removed]",
      "text/plain": [
       "<Figure size 432x288 with 1 Axes>"
      ]
     },
     "metadata": {
      "needs_background": "light"
     },
     "output_type": "display_data"
    }
   ],
   "source": [
    "import numpy as np \n",
    "from matplotlib import pyplot as plt \n",
    "\n",
    "x = np.arange(1,11) \n",
    "y = 2 * x + 5 \n",
    "plt.title(\"Matplotlib demo\") \n",
    "plt.xlabel(\"x axis caption\") \n",
    "plt.ylabel(\"y axis caption\") \n",
    "plt.plot(x,y,\"ob\") \n",
    "plt.show() "
   ]
  },
  {
   "cell_type": "markdown",
   "metadata": {},
   "source": [
    "# Sine Wave Plot"
   ]
  },
  {
   "cell_type": "code",
   "execution_count": 92,
   "metadata": {},
   "outputs": [
    {
     "data": {
      "image/png": "[encoded data removed]",
      "text/plain": [
       "<Figure size 432x288 with 1 Axes>"
      ]
     },
     "metadata": {
      "needs_background": "light"
     },
     "output_type": "display_data"
    }
   ],
   "source": [
    "import numpy as np \n",
    "import matplotlib.pyplot as plt  \n",
    "\n",
    "# Compute the x and y coordinates for points on a sine curve \n",
    "x = np.arange(0, 3 * np.pi, 0.1) \n",
    "y = np.sin(x) \n",
    "plt.title(\"sine wave form\") \n",
    "\n",
    "# Plot the points using matplotlib \n",
    "plt.plot(x, y) \n",
    "plt.show() "
   ]
  },
  {
   "cell_type": "markdown",
   "metadata": {},
   "source": [
    "### subplot()\n",
    "The subplot() function allows you to plot different things in the same figure. In the following script, sine and cosine values are plotted."
   ]
  },
  {
   "cell_type": "code",
   "execution_count": 93,
   "metadata": {},
   "outputs": [
    {
     "data": {
      "image/png": "[encoded data removed]",
      "text/plain": [
       "<Figure size 432x288 with 2 Axes>"
      ]
     },
     "metadata": {
      "needs_background": "light"
     },
     "output_type": "display_data"
    }
   ],
   "source": [
    "import numpy as np \n",
    "import matplotlib.pyplot as plt  \n",
    "   \n",
    "# Compute the x and y coordinates for points on sine and cosine curves \n",
    "x = np.arange(0, 3 * np.pi, 0.1) \n",
    "y_sin = np.sin(x) \n",
    "y_cos = np.cos(x)  \n",
    "   \n",
    "# Set up a subplot grid that has height 2 and width 1, \n",
    "# and set the first such subplot as active. \n",
    "plt.subplot(2, 1, 1)\n",
    "   \n",
    "# Make the first plot \n",
    "plt.plot(x, y_sin) \n",
    "plt.title('Sine')  \n",
    "   \n",
    "# Set the second subplot as active, and make the second plot. \n",
    "plt.subplot(2, 1, 2) \n",
    "plt.plot(x, y_cos) \n",
    "plt.title('Cosine')  \n",
    "   \n",
    "# Show the figure. \n",
    "plt.show()"
   ]
  },
  {
   "cell_type": "markdown",
   "metadata": {},
   "source": [
    "### bar()\n",
    "The pyplot submodule provides bar() function to generate bar graphs. The following example produces the bar graph of two sets of x and y arrays."
   ]
  },
  {
   "cell_type": "code",
   "execution_count": 94,
   "metadata": {},
   "outputs": [
    {
     "data": {
      "image/png": "[encoded data removed]",
      "text/plain": [
       "<Figure size 432x288 with 1 Axes>"
      ]
     },
     "metadata": {
      "needs_background": "light"
     },
     "output_type": "display_data"
    }
   ],
   "source": [
    "from matplotlib import pyplot as plt \n",
    "x = [5,8,10] \n",
    "y = [12,16,6]  \n",
    "\n",
    "x2 = [6,9,11] \n",
    "y2 = [6,15,7] \n",
    "plt.bar(x, y, align = 'center') \n",
    "plt.bar(x2, y2, color = 'g', align = 'center') \n",
    "plt.title('Bar graph') \n",
    "plt.ylabel('Y axis') \n",
    "plt.xlabel('X axis')  \n",
    "\n",
    "plt.show()"
   ]
  },
  {
   "cell_type": "markdown",
   "metadata": {},
   "source": [
    "# NumPy - Histogram Using Matplotlib"
   ]
  },
  {
   "cell_type": "markdown",
   "metadata": {},
   "source": [
    "### NumPy has a numpy.histogram() function that is a graphical representation of the frequency distribution of data. Rectangles of equal horizontal size corresponding to class interval called bin and variable height corresponding to frequency.\n",
    "\n"
   ]
  },
  {
   "cell_type": "markdown",
   "metadata": {},
   "source": [
    "### numpy.histogram()\n",
    "The numpy.histogram() function takes the input array and bins as two parameters. The successive elements in bin array act as the boundary of each bin."
   ]
  },
  {
   "cell_type": "code",
   "execution_count": 96,
   "metadata": {},
   "outputs": [
    {
     "name": "stdout",
     "output_type": "stream",
     "text": [
      "[3 4 5 2 1]\n",
      "[  0  20  40  60  80 100]\n"
     ]
    }
   ],
   "source": [
    "import numpy as np \n",
    "   \n",
    "a = np.array([22,87,5,43,56,73,55,54,11,20,51,5,79,31,27]) \n",
    "np.histogram(a,bins = [0,20,40,60,80,100]) \n",
    "hist,bins = np.histogram(a,bins = [0,20,40,60,80,100]) \n",
    "print (hist) \n",
    "print (bins) "
   ]
  },
  {
   "cell_type": "markdown",
   "metadata": {},
   "source": [
    "### plt()\n",
    "Matplotlib can convert this numeric representation of histogram into a graph. The plt() function of pyplot submodule takes the array containing the data and bin array as parameters and converts into a histogram."
   ]
  },
  {
   "cell_type": "code",
   "execution_count": 97,
   "metadata": {
    "scrolled": true
   },
   "outputs": [
    {
     "data": {
      "image/png": "[encoded data removed]",
      "text/plain": [
       "<Figure size 432x288 with 1 Axes>"
      ]
     },
     "metadata": {
      "needs_background": "light"
     },
     "output_type": "display_data"
    }
   ],
   "source": [
    "from matplotlib import pyplot as plt \n",
    "import numpy as np  \n",
    "   \n",
    "a = np.array([22,87,5,43,56,73,55,54,11,20,51,5,79,31,27]) \n",
    "plt.hist(a, bins = [0,20,40,60,80,100]) \n",
    "plt.title(\"histogram\") \n",
    "plt.show()"
   ]
  },
  {
   "cell_type": "markdown",
   "metadata": {},
   "source": [
    "# I/O with NumPy"
   ]
  },
  {
   "cell_type": "markdown",
   "metadata": {},
   "source": [
    "## The ndarray objects can be saved to and loaded from the disk files. The IO functions available are −\n",
    "\n",
    "load() and save() functions handle /numPy binary files (with npy extension)\n",
    "\n",
    "loadtxt() and savetxt() functions handle normal text files\n",
    "\n",
    "NumPy introduces a simple file format for ndarray objects. This .npy file stores data, shape, dtype and other information required to reconstruct the ndarray in a disk file such that the array is correctly retrieved even if the file is on another machine with different architecture."
   ]
  },
  {
   "cell_type": "markdown",
   "metadata": {},
   "source": [
    "### numpy.save()\n",
    "The numpy.save() file stores the input array in a disk file with npy extension."
   ]
  },
  {
   "cell_type": "code",
   "execution_count": 98,
   "metadata": {},
   "outputs": [],
   "source": [
    "import numpy as np \n",
    "a = np.array([1,2,3,4,5]) \n",
    "np.save('outfile',a)"
   ]
  },
  {
   "cell_type": "code",
   "execution_count": 99,
   "metadata": {},
   "outputs": [
    {
     "name": "stdout",
     "output_type": "stream",
     "text": [
      "[1 2 3 4 5]\n"
     ]
    }
   ],
   "source": [
    "#To reconstruct array from outfile.npy, use load() function.\n",
    "\n",
    "import numpy as np \n",
    "b = np.load('outfile.npy') \n",
    "print(b )"
   ]
  },
  {
   "cell_type": "markdown",
   "metadata": {},
   "source": [
    "### savetxt()\n",
    "The storage and retrieval of array data in simple text file format is done with savetxt() and loadtxt() functions."
   ]
  },
  {
   "cell_type": "code",
   "execution_count": 100,
   "metadata": {},
   "outputs": [
    {
     "name": "stdout",
     "output_type": "stream",
     "text": [
      "[1. 2. 3. 4. 5.]\n"
     ]
    }
   ],
   "source": [
    "import numpy as np \n",
    "\n",
    "a = np.array([1,2,3,4,5]) \n",
    "np.savetxt('out.txt',a) \n",
    "b = np.loadtxt('out.txt') \n",
    "print( b )"
   ]
  },
  {
   "cell_type": "code",
   "execution_count": null,
   "metadata": {},
   "outputs": [],
   "source": []
  },
  {
   "cell_type": "code",
   "execution_count": null,
   "metadata": {},
   "outputs": [],
   "source": []
  }
 ],
 "metadata": {
  "kernelspec": {
   "display_name": "Python 3",
   "language": "python",
   "name": "python3"
  },
  "language_info": {
   "codemirror_mode": {
    "name": "ipython",
    "version": 3
   },
   "file_extension": ".py",
   "mimetype": "text/x-python",
   "name": "python",
   "nbconvert_exporter": "python",
   "pygments_lexer": "ipython3",
   "version": "3.7.4"
  }
 },
 "nbformat": 4,
 "nbformat_minor": 2
}
